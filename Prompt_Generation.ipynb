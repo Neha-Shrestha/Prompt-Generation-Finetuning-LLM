{
  "nbformat": 4,
  "nbformat_minor": 0,
  "metadata": {
    "colab": {
      "provenance": []
    },
    "kernelspec": {
      "name": "python3",
      "display_name": "Python 3"
    },
    "language_info": {
      "name": "python"
    }
  },
  "cells": [
    {
      "cell_type": "code",
      "source": [
        "import os\n",
        "import pandas as pd\n",
        "import google.generativeai as genai\n",
        "\n",
        "from google.colab import userdata\n",
        "GOOGLE_API_KEY=userdata.get('GEMINI_API_KEY')\n",
        "genai.configure(api_key=GOOGLE_API_KEY)\n",
        "\n",
        "generation_config = {\n",
        "    \"temperature\": 1,\n",
        "    \"top_p\": 0.95,\n",
        "    \"top_k\": 64,\n",
        "    \"max_output_tokens\": 8192,\n",
        "    \"response_mime_type\": \"text/plain\",\n",
        "}\n",
        "\n",
        "safety_settings = [\n",
        "    {\n",
        "      \"category\": \"HARM_CATEGORY_SEXUALLY_EXPLICIT\",\n",
        "      \"threshold\": \"BLOCK_ONLY_HIGH\"\n",
        "    },\n",
        "    {\n",
        "      \"category\": \"HARM_CATEGORY_HATE_SPEECH\",\n",
        "      \"threshold\": \"BLOCK_ONLY_HIGH\"\n",
        "    },\n",
        "    {\n",
        "      \"category\": \"HARM_CATEGORY_HARASSMENT\",\n",
        "      \"threshold\": \"BLOCK_ONLY_HIGH\"\n",
        "    },\n",
        "    {\n",
        "      \"category\": \"HARM_CATEGORY_DANGEROUS_CONTENT\",\n",
        "      \"threshold\": \"BLOCK_ONLY_HIGH\"\n",
        "    },\n",
        "]\n",
        "\n",
        "model = genai.GenerativeModel(\n",
        "    model_name=\"gemini-1.5-flash\",\n",
        "    generation_config=generation_config,\n",
        "    system_instruction=\"Humanize image prompts\\nYour task is to convert a highly complex and technical image into a layman's prompt. A much shorter, simpler, non technical details but can be inferred upon only.\",\n",
        "    safety_settings=safety_settings\n",
        ")\n",
        "\n",
        "def convert_prompts(advanced_prompt):\n",
        "    chat_session = model.start_chat(history=[\n",
        "        {\n",
        "            \"role\": \"user\",\n",
        "            \"parts\": [advanced_prompt],\n",
        "        }\n",
        "    ])\n",
        "    response = chat_session.send_message(advanced_prompt)\n",
        "    return response.text"
      ],
      "metadata": {
        "id": "0LhEQ5-RHq12"
      },
      "execution_count": 15,
      "outputs": []
    },
    {
      "cell_type": "code",
      "source": [
        "import pandas as pd\n",
        "\n",
        "df = pd.read_excel('test.xlsx', header=None)\n",
        "\n",
        "human_prompts = []\n",
        "for advanced_prompt in df.iloc[:, 0]:\n",
        "    human_prompts.append(convert_prompts(advanced_prompt))\n",
        "\n",
        "results_df = pd.DataFrame({'advanced_prompts': df.iloc[:, 0], 'human_prompts': human_prompts})\n",
        "\n",
        "results_df.to_excel('output.xlsx', index=False)\n"
      ],
      "metadata": {
        "id": "pMBrmr86FXRe"
      },
      "execution_count": 16,
      "outputs": []
    },
    {
      "cell_type": "code",
      "source": [],
      "metadata": {
        "id": "1DtKDQFqp_rN"
      },
      "execution_count": null,
      "outputs": []
    }
  ]
}